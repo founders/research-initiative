{
 "cells": [
  {
   "cell_type": "markdown",
   "id": "herbal-forest",
   "metadata": {},
   "source": [
    "# Example Notebook\n",
    "\n",
    "### This is an example Research Initiative Notebook. Jupyter Notebook will be the primary way that we display the results of our data analysis."
   ]
  },
  {
   "cell_type": "code",
   "execution_count": 3,
   "id": "joined-warren",
   "metadata": {},
   "outputs": [],
   "source": [
    "import numpy as np\n",
    "import pandas as pd\n",
    "import matplotlib.pyplot as plt\n",
    "import random"
   ]
  },
  {
   "cell_type": "markdown",
   "id": "serious-belize",
   "metadata": {},
   "source": [
    "## We can create some (random) data."
   ]
  },
  {
   "cell_type": "code",
   "execution_count": 33,
   "id": "desperate-messenger",
   "metadata": {},
   "outputs": [],
   "source": [
    "x = [random.choice([x for x in range(10)]) for x in range(20)]\n",
    "y = [random.choice([1,2,3,4,5]) for x in range(20)]"
   ]
  },
  {
   "cell_type": "markdown",
   "id": "polished-potential",
   "metadata": {},
   "source": [
    "## Or, better yet, let's load in data from an external source."
   ]
  },
  {
   "cell_type": "code",
   "execution_count": 11,
   "id": "alternate-twenty",
   "metadata": {},
   "outputs": [],
   "source": [
    "users = pd.read_csv('../data/MOCK_DATA.csv')  # Get data from users"
   ]
  },
  {
   "cell_type": "code",
   "execution_count": 34,
   "id": "neural-shell",
   "metadata": {},
   "outputs": [
    {
     "data": {
      "text/html": [
       "<div>\n",
       "<style scoped>\n",
       "    .dataframe tbody tr th:only-of-type {\n",
       "        vertical-align: middle;\n",
       "    }\n",
       "\n",
       "    .dataframe tbody tr th {\n",
       "        vertical-align: top;\n",
       "    }\n",
       "\n",
       "    .dataframe thead th {\n",
       "        text-align: right;\n",
       "    }\n",
       "</style>\n",
       "<table border=\"1\" class=\"dataframe\">\n",
       "  <thead>\n",
       "    <tr style=\"text-align: right;\">\n",
       "      <th></th>\n",
       "      <th>id</th>\n",
       "      <th>first_name</th>\n",
       "      <th>last_name</th>\n",
       "      <th>email</th>\n",
       "      <th>gender</th>\n",
       "    </tr>\n",
       "  </thead>\n",
       "  <tbody>\n",
       "    <tr>\n",
       "      <th>0</th>\n",
       "      <td>1</td>\n",
       "      <td>Archie</td>\n",
       "      <td>Waker</td>\n",
       "      <td>awaker0@github.io</td>\n",
       "      <td>Non-binary</td>\n",
       "    </tr>\n",
       "    <tr>\n",
       "      <th>1</th>\n",
       "      <td>2</td>\n",
       "      <td>Dallon</td>\n",
       "      <td>Benley</td>\n",
       "      <td>dbenley1@imageshack.us</td>\n",
       "      <td>Female</td>\n",
       "    </tr>\n",
       "    <tr>\n",
       "      <th>2</th>\n",
       "      <td>3</td>\n",
       "      <td>Alick</td>\n",
       "      <td>Nunson</td>\n",
       "      <td>anunson2@miitbeian.gov.cn</td>\n",
       "      <td>Non-binary</td>\n",
       "    </tr>\n",
       "    <tr>\n",
       "      <th>3</th>\n",
       "      <td>4</td>\n",
       "      <td>Scarlett</td>\n",
       "      <td>Arent</td>\n",
       "      <td>sarent3@nytimes.com</td>\n",
       "      <td>Bigender</td>\n",
       "    </tr>\n",
       "    <tr>\n",
       "      <th>4</th>\n",
       "      <td>5</td>\n",
       "      <td>Hy</td>\n",
       "      <td>Myton</td>\n",
       "      <td>hmyton4@ebay.co.uk</td>\n",
       "      <td>Genderqueer</td>\n",
       "    </tr>\n",
       "  </tbody>\n",
       "</table>\n",
       "</div>"
      ],
      "text/plain": [
       "   id first_name last_name                      email       gender\n",
       "0   1     Archie     Waker          awaker0@github.io   Non-binary\n",
       "1   2     Dallon    Benley     dbenley1@imageshack.us       Female\n",
       "2   3      Alick    Nunson  anunson2@miitbeian.gov.cn   Non-binary\n",
       "3   4   Scarlett     Arent        sarent3@nytimes.com     Bigender\n",
       "4   5         Hy     Myton         hmyton4@ebay.co.uk  Genderqueer"
      ]
     },
     "execution_count": 34,
     "metadata": {},
     "output_type": "execute_result"
    }
   ],
   "source": [
    "users.head()"
   ]
  },
  {
   "cell_type": "code",
   "execution_count": 19,
   "id": "hollow-processor",
   "metadata": {},
   "outputs": [
    {
     "data": {
      "text/plain": [
       "gender\n",
       "Agender        143\n",
       "Female         141\n",
       "Male           128\n",
       "Polygender     123\n",
       "Genderfluid    122\n",
       "Bigender       115\n",
       "Non-binary     115\n",
       "Genderqueer    113\n",
       "dtype: int64"
      ]
     },
     "execution_count": 19,
     "metadata": {},
     "output_type": "execute_result"
    }
   ],
   "source": [
    "genders = users.value_counts('gender')  # We can, for example, count the number of different gendered individuals in this example data\n",
    "genders"
   ]
  },
  {
   "cell_type": "markdown",
   "id": "damaged-spoke",
   "metadata": {},
   "source": [
    "## Now, we can plot and analyze our data."
   ]
  },
  {
   "cell_type": "code",
   "execution_count": 32,
   "id": "statutory-jacob",
   "metadata": {},
   "outputs": [
    {
     "data": {
      "text/plain": [
       "<BarContainer object of 8 artists>"
      ]
     },
     "execution_count": 32,
     "metadata": {},
     "output_type": "execute_result"
    },
    {
     "data": {
      "image/png": "[encoded data removed]",
      "text/plain": [
       "<Figure size 1008x720 with 1 Axes>"
      ]
     },
     "metadata": {
      "needs_background": "light"
     },
     "output_type": "display_data"
    }
   ],
   "source": [
    "labels = genders.index\n",
    "values = genders.values\n",
    "plt.figure(figsize=(14, 10))\n",
    "plt.bar(labels, values)"
   ]
  }
 ],
 "metadata": {
  "kernelspec": {
   "display_name": "Python 3",
   "language": "python",
   "name": "python3"
  },
  "language_info": {
   "codemirror_mode": {
    "name": "ipython",
    "version": 3
   },
   "file_extension": ".py",
   "mimetype": "text/x-python",
   "name": "python",
   "nbconvert_exporter": "python",
   "pygments_lexer": "ipython3",
   "version": "3.8.2"
  }
 },
 "nbformat": 4,
 "nbformat_minor": 5
}
